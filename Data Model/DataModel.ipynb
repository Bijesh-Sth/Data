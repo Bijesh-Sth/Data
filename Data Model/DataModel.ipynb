{
 "cells": [
  {
   "cell_type": "code",
   "execution_count": 1,
   "id": "0f8cf350-7c2c-4937-a92d-1047c488c214",
   "metadata": {},
   "outputs": [
    {
     "name": "stdout",
     "output_type": "stream",
     "text": [
      "Collecting psycopg2Note: you may need to restart the kernel to use updated packages.\n",
      "\n",
      "  Downloading psycopg2-2.9.9-cp311-cp311-win_amd64.whl.metadata (4.5 kB)\n",
      "Downloading psycopg2-2.9.9-cp311-cp311-win_amd64.whl (1.2 MB)\n",
      "   ---------------------------------------- 0.0/1.2 MB ? eta -:--:--\n",
      "   ---------------------------------------- 0.0/1.2 MB ? eta -:--:--\n",
      "   ---------------------------------------- 0.0/1.2 MB ? eta -:--:--\n",
      "   - -------------------------------------- 0.0/1.2 MB 330.3 kB/s eta 0:00:04\n",
      "   -- ------------------------------------- 0.1/1.2 MB 409.6 kB/s eta 0:00:03\n",
      "   --- ------------------------------------ 0.1/1.2 MB 525.1 kB/s eta 0:00:03\n",
      "   ----- ---------------------------------- 0.2/1.2 MB 704.6 kB/s eta 0:00:02\n",
      "   ------ --------------------------------- 0.2/1.2 MB 787.7 kB/s eta 0:00:02\n",
      "   ------ --------------------------------- 0.2/1.2 MB 787.7 kB/s eta 0:00:02\n",
      "   --------------- ------------------------ 0.5/1.2 MB 1.2 MB/s eta 0:00:01\n",
      "   ---------------- ----------------------- 0.5/1.2 MB 1.2 MB/s eta 0:00:01\n",
      "   ----------------- ---------------------- 0.5/1.2 MB 1.1 MB/s eta 0:00:01\n",
      "   --------------------- ------------------ 0.6/1.2 MB 1.2 MB/s eta 0:00:01\n",
      "   ----------------------- ---------------- 0.7/1.2 MB 1.3 MB/s eta 0:00:01\n",
      "   ------------------------ --------------- 0.7/1.2 MB 1.2 MB/s eta 0:00:01\n",
      "   ------------------------ --------------- 0.7/1.2 MB 1.2 MB/s eta 0:00:01\n",
      "   -------------------------------- ------- 0.9/1.2 MB 1.4 MB/s eta 0:00:01\n",
      "   ---------------------------------- ----- 1.0/1.2 MB 1.4 MB/s eta 0:00:01\n",
      "   ------------------------------------ --- 1.1/1.2 MB 1.4 MB/s eta 0:00:01\n",
      "   ---------------------------------------  1.1/1.2 MB 1.4 MB/s eta 0:00:01\n",
      "   ---------------------------------------  1.2/1.2 MB 1.4 MB/s eta 0:00:01\n",
      "   ---------------------------------------  1.2/1.2 MB 1.4 MB/s eta 0:00:01\n",
      "   ---------------------------------------  1.2/1.2 MB 1.4 MB/s eta 0:00:01\n",
      "   ---------------------------------------  1.2/1.2 MB 1.4 MB/s eta 0:00:01\n",
      "   ---------------------------------------  1.2/1.2 MB 1.4 MB/s eta 0:00:01\n",
      "   ---------------------------------------  1.2/1.2 MB 1.4 MB/s eta 0:00:01\n",
      "   ---------------------------------------  1.2/1.2 MB 1.4 MB/s eta 0:00:01\n",
      "   ---------------------------------------- 1.2/1.2 MB 958.7 kB/s eta 0:00:00\n",
      "Installing collected packages: psycopg2\n",
      "Successfully installed psycopg2-2.9.9\n"
     ]
    }
   ],
   "source": [
    "pip install psycopg2\n"
   ]
  },
  {
   "cell_type": "code",
   "execution_count": 1,
   "id": "99c25a0e-f8a0-4b57-b84c-dea91d0fa27f",
   "metadata": {},
   "outputs": [],
   "source": [
    "import psycopg2"
   ]
  },
  {
   "cell_type": "markdown",
   "id": "09dea02b-dde1-464d-8258-1f66e6da32d4",
   "metadata": {},
   "source": [
    "#Connection to database"
   ]
  },
  {
   "cell_type": "code",
   "execution_count": 2,
   "id": "258d84f3-c4d1-484a-b2cd-f93ed8deb1da",
   "metadata": {
    "scrolled": true
   },
   "outputs": [
    {
     "name": "stdout",
     "output_type": "stream",
     "text": [
      "Sucess\n"
     ]
    }
   ],
   "source": [
    "try:\n",
    "    conn = psycopg2.connect(\"host=127.0.0.1 dbname=postgres user=postgres password=root\")\n",
    "except psycopg2.Error as e:\n",
    "    print(e)\n",
    "if(conn):\n",
    "    print(\"Sucess\")\n"
   ]
  },
  {
   "cell_type": "markdown",
   "id": "d490b1fb-aebc-4c52-b5a0-cb1995726ba6",
   "metadata": {},
   "source": [
    "Cursor Creation\n",
    "cursor is used to execute queries"
   ]
  },
  {
   "cell_type": "code",
   "execution_count": 3,
   "id": "34c6d91f-1fdd-492d-afdf-d899e35abd63",
   "metadata": {},
   "outputs": [
    {
     "name": "stdout",
     "output_type": "stream",
     "text": [
      "Cursor Created\n"
     ]
    }
   ],
   "source": [
    "try:\n",
    "    cur = conn.cursor()\n",
    "except psycopg2.Error as e:\n",
    "    print(e)\n",
    "if(cur): print(\"Cursor Created\")"
   ]
  },
  {
   "cell_type": "markdown",
   "id": "e2278124-3c88-4147-9da5-4e529a113542",
   "metadata": {},
   "source": [
    "Set commitment true\n",
    "i.e. each action is committed without conn.commit() after each command\n"
   ]
  },
  {
   "cell_type": "code",
   "execution_count": 4,
   "id": "9c2a4d80-89b7-439c-b1a1-12c9400d804f",
   "metadata": {},
   "outputs": [],
   "source": [
    "conn.set_session(autocommit=True)"
   ]
  },
  {
   "cell_type": "markdown",
   "id": "8ff0a8be-2a84-4c13-8f93-6c0de3f3a6f5",
   "metadata": {},
   "source": [
    "\n",
    "Create Database"
   ]
  },
  {
   "cell_type": "code",
   "execution_count": 5,
   "id": "25ab8a68-993b-408d-8cfc-e83805a615c0",
   "metadata": {},
   "outputs": [
    {
     "name": "stdout",
     "output_type": "stream",
     "text": [
      "database \"firstdb\" already exists\n",
      "\n"
     ]
    }
   ],
   "source": [
    "try:\n",
    "    cur.execute(\"create database firstdb\")\n",
    "except psycopg2.Error as e:\n",
    "    print(e)"
   ]
  },
  {
   "cell_type": "code",
   "execution_count": 6,
   "id": "848d7ea6-dcfd-4f5e-90b5-2f91bce061da",
   "metadata": {},
   "outputs": [],
   "source": [
    "conn.close()\n"
   ]
  },
  {
   "cell_type": "markdown",
   "id": "264250f0-ed67-4cfc-b9ae-16d8ccfbf5d0",
   "metadata": {},
   "source": [
    "Connect to firstDB"
   ]
  },
  {
   "cell_type": "code",
   "execution_count": 7,
   "id": "aeab3e89-6136-4b16-be99-f244807c370b",
   "metadata": {},
   "outputs": [
    {
     "name": "stdout",
     "output_type": "stream",
     "text": [
      "Sucess\n",
      "Cursor Created\n"
     ]
    }
   ],
   "source": [
    "try:\n",
    "    conn = psycopg2.connect(\"host=127.0.0.1 dbname=firstdb user=postgres password=root\")\n",
    "except psycopg2.Error as e:\n",
    "    print(e)\n",
    "if(conn):\n",
    "    print(\"Sucess\")\n",
    "\n",
    "try:\n",
    "    cur = conn.cursor()\n",
    "except psycopg2.Error as e:\n",
    "    print(e)\n",
    "if(cur): print(\"Cursor Created\")\n",
    "conn.set_session(autocommit=True)"
   ]
  },
  {
   "cell_type": "markdown",
   "id": "9bcb8e3f-2fcf-499e-855e-a5aee156e35d",
   "metadata": {},
   "source": [
    "Create Table"
   ]
  },
  {
   "cell_type": "code",
   "execution_count": 8,
   "id": "7f5ae283-6d97-4d30-a63b-8d02d25884e3",
   "metadata": {},
   "outputs": [],
   "source": [
    "try:\n",
    "    stm=\"create table if not exists students (student_id int, name varchar, age int, gender varchar, subject varchar, marks int);\"\n",
    "    cur.execute(stm)\n",
    "except psycopg2.Error as e:\n",
    "    print(e)"
   ]
  },
  {
   "cell_type": "markdown",
   "id": "8194d84d-7f86-4fab-80b5-78971a7bf220",
   "metadata": {},
   "source": [
    "Insert into table"
   ]
  },
  {
   "cell_type": "code",
   "execution_count": 9,
   "id": "2b8cd249-079c-4970-b953-1bc2d1a4f776",
   "metadata": {},
   "outputs": [],
   "source": [
    "try:\n",
    "    cur.execute(\"insert into students(student_id,name,age,gender,subject,marks) \\\n",
    "        values (%s,%s,%s,%s,%s,%s)\", (1,\"Potato\",21,\"Male\",\"Python\",86))\n",
    "except psycopg2.Error as e:\n",
    "    print(e)"
   ]
  },
  {
   "cell_type": "code",
   "execution_count": 10,
   "id": "10d9de55-8042-42e9-8395-e2553df962b5",
   "metadata": {},
   "outputs": [
    {
     "name": "stdout",
     "output_type": "stream",
     "text": [
      "(1, 'Potato', 21, 'Male', 'Python', 86)\n",
      "(1, 'Potato', 21, 'Male', 'Python', 86)\n"
     ]
    }
   ],
   "source": [
    "try:\n",
    "    cur.execute(\"select * from students\")\n",
    "except psycopg2.Error as e:\n",
    "    print(e)\n",
    "row = cur.fetchone()\n",
    "while row:\n",
    "    print(row)\n",
    "    row=cur.fetchone()"
   ]
  },
  {
   "cell_type": "markdown",
   "id": "cb68c008-9f4c-4cbf-b54c-69e583309f92",
   "metadata": {},
   "source": [
    "Close connection and cusor"
   ]
  },
  {
   "cell_type": "code",
   "execution_count": 30,
   "id": "7ac3393c-360c-4b17-8653-788c60e9938d",
   "metadata": {},
   "outputs": [],
   "source": [
    "cur.close()\n",
    "conn.close()"
   ]
  },
  {
   "cell_type": "code",
   "execution_count": null,
   "id": "42549beb-4f81-4883-8f56-5b81b74bcf03",
   "metadata": {},
   "outputs": [],
   "source": []
  }
 ],
 "metadata": {
  "kernelspec": {
   "display_name": "Python 3 (ipykernel)",
   "language": "python",
   "name": "python3"
  },
  "language_info": {
   "codemirror_mode": {
    "name": "ipython",
    "version": 3
   },
   "file_extension": ".py",
   "mimetype": "text/x-python",
   "name": "python",
   "nbconvert_exporter": "python",
   "pygments_lexer": "ipython3",
   "version": "3.11.5"
  }
 },
 "nbformat": 4,
 "nbformat_minor": 5
}
